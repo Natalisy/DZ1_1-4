{
 "cells": [
  {
   "cell_type": "code",
   "execution_count": null,
   "metadata": {},
   "outputs": [],
   "source": [
    "#Задание 1 \"Основы Python\"\n",
    "#1"
   ]
  },
  {
   "cell_type": "code",
   "execution_count": 2,
   "metadata": {},
   "outputs": [
    {
     "name": "stdout",
     "output_type": "stream",
     "text": [
      "Фраза 1 длиннее фразы 2\n"
     ]
    }
   ],
   "source": [
    "phrase_1 = 'Насколько проще было бы писать программы, если бы не заказчики'\n",
    "phrase_2 = '640Кб должно хватить для любых задач. Билл Гейтс (по легенде)'\n",
    "\n",
    "if len (phrase_1) > len (phrase_2):\n",
    "\tprint(\"Фраза 1 длиннее фразы 2\")"
   ]
  },
  {
   "cell_type": "code",
   "execution_count": 3,
   "metadata": {},
   "outputs": [
    {
     "name": "stdout",
     "output_type": "stream",
     "text": [
      "Фраза 2 длиннее фразы 1\n"
     ]
    }
   ],
   "source": [
    "phrase_1 = '640Кб должно хватить для любых задач. Билл Гейтс (по легенде)'\n",
    "phrase_2 = 'Насколько проще было бы писать программы, если бы не заказчики'\n",
    "\n",
    "if len (phrase_1) < len (phrase_2):\n",
    "\tprint(\"Фраза 2 длиннее фразы 1\")"
   ]
  },
  {
   "cell_type": "code",
   "execution_count": 4,
   "metadata": {},
   "outputs": [
    {
     "name": "stdout",
     "output_type": "stream",
     "text": [
      "Фразы равной длины\n"
     ]
    }
   ],
   "source": [
    "phrase_1 = 'Насколько проще было бы писать программы, если бы не заказчики'\n",
    "phrase_2 = 'Насколько проще было бы писать программы, если бы не заказчики'\n",
    "\n",
    "if len (phrase_1) == len (phrase_2):\n",
    "\tprint(\"Фразы равной длины\")"
   ]
  },
  {
   "cell_type": "code",
   "execution_count": null,
   "metadata": {},
   "outputs": [],
   "source": [
    "#2"
   ]
  },
  {
   "cell_type": "code",
   "execution_count": 5,
   "metadata": {},
   "outputs": [
    {
     "name": "stdout",
     "output_type": "stream",
     "text": [
      "2020\n",
      "Високосный год\n"
     ]
    }
   ],
   "source": [
    "year = int(input())\n",
    "\n",
    "if (year%4==0)and(year%100!=0)or(year%400==0):\n",
    "\tprint(\"Високосный год\")\n",
    "\n",
    "else:\n",
    "\tprint(\"Обычный год\")"
   ]
  },
  {
   "cell_type": "code",
   "execution_count": null,
   "metadata": {},
   "outputs": [],
   "source": [
    "#3"
   ]
  },
  {
   "cell_type": "code",
   "execution_count": 6,
   "metadata": {},
   "outputs": [
    {
     "name": "stdout",
     "output_type": "stream",
     "text": [
      "Введите день21\n",
      "Введите месяц\n",
      "июня\n",
      "Стрелец\n"
     ]
    }
   ],
   "source": [
    "day = int(input(\"Введите день\"))\n",
    "\n",
    "print(\"Введите месяц\")\n",
    "month_of_birth = input().lower()\n",
    "\n",
    "number_of_month = 0\n",
    "count = 0\n",
    "\n",
    "months = ['декабрь', 'январь', 'февраль', 'март', 'апрель', 'май', 'июнь', 'июль', 'август', 'сентябрь', 'октябрь', 'ноябрь']\n",
    "\n",
    "\n",
    "for month in months:\n",
    "\tif month == month_of_birth:\n",
    "\t\tnumber_of_month = count\n",
    "\t\tbreak\n",
    "\telse:\n",
    "\t\tcount+=1\n",
    "\n",
    "if number_of_month == 0: #декабрь\n",
    "\tif day >= 22:\n",
    "\t\tprint(\"Козерог\")\n",
    "\telse:\n",
    "\t\tprint(\"Стрелец\")\n",
    "\n",
    "if number_of_month == 1: # январь\n",
    "\tif day >= 21:\n",
    "\t\tprint(\"Водолей\")\n",
    "\telse:\n",
    "\t\tprint(\"Козерог\")\n",
    "\n",
    "if number_of_month == 2: # февраль\n",
    "\tif day >= 20:\n",
    "\t\tprint(\"Рыбы\")\n",
    "\telse:\n",
    "\t\tprint(\"Водолей\")\n",
    "\n",
    "if number_of_month == 3: # март\n",
    "\tif day >= 21:\n",
    "\t\tprint(\"Овен\")\n",
    "\telse:\n",
    "\t\tprint(\"Рыбы\")\n",
    "\n",
    "if number_of_month == 4: # апрель\n",
    "\tif day >= 21:\n",
    "\t\tprint(\"Телец\")\n",
    "\telse:\n",
    "\t\tprint(\"Овен\")\n",
    "        \n",
    "if number_of_month ==5: # май\n",
    "    if day >= 21:\n",
    "        print(\"Близнецы\")\n",
    "    else:\n",
    "        print(\"Телец\")"
   ]
  },
  {
   "cell_type": "code",
   "execution_count": null,
   "metadata": {},
   "outputs": [],
   "source": [
    "#4"
   ]
  },
  {
   "cell_type": "code",
   "execution_count": 17,
   "metadata": {},
   "outputs": [
    {
     "name": "stdout",
     "output_type": "stream",
     "text": [
      "Введите размеры посылки в сантиметрах\n",
      "Введите ширину\n",
      "45\n",
      "Введите длину\n",
      "205\n",
      "Введите высоту\n",
      "45\n",
      "Упаковка для лыж\n"
     ]
    }
   ],
   "source": [
    "print(\"Введите размеры посылки в сантиметрах\")\n",
    "\n",
    "print(\"Введите ширину\")\n",
    "width = int(input())\n",
    "\n",
    "print(\"Введите длину\")\n",
    "length = int(input())\n",
    "\n",
    "print(\"Введите высоту\")\n",
    "height = int(input())\n",
    "\n",
    "if width < 15 and length < 15 and height < 15:\n",
    "\tprint(\"Коробка №1\")\n",
    "    \n",
    "elif length > 200:\n",
    "\tprint(\"Упаковка для лыж\")\n",
    "\n",
    "elif 15< width <50 or  15< length <50 or 15< height <50:\n",
    "\tprint(\"Коробка №2\")\n",
    "\n",
    "else:\n",
    "\tprint(\"Стандартная коробка №3\")    "
   ]
  },
  {
   "cell_type": "code",
   "execution_count": null,
   "metadata": {},
   "outputs": [],
   "source": []
  }
 ],
 "metadata": {
  "kernelspec": {
   "display_name": "Python 3",
   "language": "python",
   "name": "python3"
  },
  "language_info": {
   "codemirror_mode": {
    "name": "ipython",
    "version": 3
   },
   "file_extension": ".py",
   "mimetype": "text/x-python",
   "name": "python",
   "nbconvert_exporter": "python",
   "pygments_lexer": "ipython3",
   "version": "3.8.3"
  }
 },
 "nbformat": 4,
 "nbformat_minor": 4
}
